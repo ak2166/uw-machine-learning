{
 "cells": [
  {
   "cell_type": "markdown",
   "metadata": {},
   "source": [
    "## Week two - Multiple Linear Regression\n",
    "### Assignment One\n",
    "\n",
    "<p>First, import necessary libraries. Then load test and train data into them.</p>"
   ]
  },
  {
   "cell_type": "code",
   "execution_count": 59,
   "metadata": {
    "collapsed": true
   },
   "outputs": [],
   "source": [
    "import pandas as pd\n",
    "import numpy as np\n",
    "from sklearn import linear_model\n",
    "import math"
   ]
  },
  {
   "cell_type": "code",
   "execution_count": 60,
   "metadata": {
    "collapsed": true
   },
   "outputs": [],
   "source": [
    "dtype_dict = {'bathrooms':float, 'waterfront':int, 'sqft_above':int, 'sqft_living15':float,\n",
    "              'grade':int, 'yr_renovated':int, 'price':float, 'bedrooms':float, 'zipcode':str,\n",
    "              'long':float, 'sqft_lot15':float, 'sqft_living':float, 'floors':str, 'condition':int,\n",
    "              'lat':float, 'date':str, 'sqft_basement':int, 'yr_built':int, 'id':str, 'sqft_lot':int, 'view':int}\n",
    "training_data = pd.read_csv('kc_house_train_data.csv', dtype = dtype_dict)\n",
    "test_data = pd.read_csv('kc_house_test_data.csv', dtype = dtype_dict)"
   ]
  },
  {
   "cell_type": "markdown",
   "metadata": {},
   "source": [
    "### Feature engineering: Training Data"
   ]
  },
  {
   "cell_type": "code",
   "execution_count": 61,
   "metadata": {
    "collapsed": false
   },
   "outputs": [
    {
     "name": "stdout",
     "output_type": "stream",
     "text": [
      "Means:\n",
      "12.1742406811\n",
      "7.49659169351\n",
      "7.55034931769\n",
      "-74.6539680338\n"
     ]
    }
   ],
   "source": [
    "training_data['bedrooms_squared'] = training_data['bedrooms']*training_data['bedrooms']\n",
    "training_data['bed_bath_rooms'] = training_data['bedrooms']*training_data['bathrooms']\n",
    "training_data['log_sqft_living'] = training_data['sqft_living'].apply(lambda x: math.log(x))\n",
    "training_data['lat_plus_long'] = training_data['lat'] + training_data['long']\n",
    "print 'Means:'\n",
    "print training_data['bedrooms_squared'].mean()\n",
    "print training_data['bed_bath_rooms'].mean()\n",
    "print training_data['log_sqft_living'].mean()\n",
    "print training_data['lat_plus_long'].mean()"
   ]
  },
  {
   "cell_type": "markdown",
   "metadata": {},
   "source": [
    "### Feature engineering: Test Data"
   ]
  },
  {
   "cell_type": "code",
   "execution_count": 62,
   "metadata": {
    "collapsed": false
   },
   "outputs": [
    {
     "name": "stdout",
     "output_type": "stream",
     "text": [
      "Means:\n",
      "12.4466777016\n",
      "7.50390163159\n",
      "7.55027467965\n",
      "-74.653333554\n"
     ]
    }
   ],
   "source": [
    "test_data['bedrooms_squared'] = test_data['bedrooms']*test_data['bedrooms']\n",
    "test_data['bed_bath_rooms'] = test_data['bedrooms']*test_data['bathrooms']\n",
    "test_data['log_sqft_living'] = test_data['sqft_living'].apply(lambda x: math.log(x))\n",
    "test_data['lat_plus_long'] = test_data['lat'] + test_data['long']\n",
    "\n",
    "print 'Means:'\n",
    "print test_data['bedrooms_squared'].mean()\n",
    "print test_data['bed_bath_rooms'].mean()\n",
    "print test_data['log_sqft_living'].mean()\n",
    "print test_data['lat_plus_long'].mean()"
   ]
  },
  {
   "cell_type": "markdown",
   "metadata": {},
   "source": [
    "### Training and Comparing Models with separate variable groups"
   ]
  },
  {
   "cell_type": "code",
   "execution_count": 63,
   "metadata": {
    "collapsed": false
   },
   "outputs": [
    {
     "data": {
      "text/plain": [
       "LinearRegression(copy_X=True, fit_intercept=True, n_jobs=1, normalize=False)"
      ]
     },
     "execution_count": 63,
     "metadata": {},
     "output_type": "execute_result"
    }
   ],
   "source": [
    "mult_regression_model_one = linear_model.LinearRegression()\n",
    "columns_one = ['sqft_living', 'bedrooms', 'bathrooms', 'lat', 'long']\n",
    "# Fit the model using the values of the columns and the price as the predicted values\n",
    "mult_regression_model_one.fit(training_data[columns_one].values, training_data['price'].values)"
   ]
  },
  {
   "cell_type": "code",
   "execution_count": 64,
   "metadata": {
    "collapsed": false
   },
   "outputs": [
    {
     "name": "stdout",
     "output_type": "stream",
     "text": [
      "[  3.12258646e+02  -5.95865332e+04   1.57067421e+04   6.58619264e+05\n",
      "  -3.09374351e+05]\n",
      "-69075726.7926\n"
     ]
    }
   ],
   "source": [
    "print mult_regression_model_one.coef_\n",
    "print mult_regression_model_one.intercept_"
   ]
  },
  {
   "cell_type": "code",
   "execution_count": 65,
   "metadata": {
    "collapsed": false
   },
   "outputs": [
    {
     "data": {
      "text/plain": [
       "LinearRegression(copy_X=True, fit_intercept=True, n_jobs=1, normalize=False)"
      ]
     },
     "execution_count": 65,
     "metadata": {},
     "output_type": "execute_result"
    }
   ],
   "source": [
    "mult_regression_model_two = linear_model.LinearRegression()\n",
    "columns_two = ['sqft_living', 'bedrooms', 'bathrooms', 'lat','long','bed_bath_rooms']\n",
    "mult_regression_model_two.fit(training_data[columns_two].values, training_data['price'].values)"
   ]
  },
  {
   "cell_type": "code",
   "execution_count": 66,
   "metadata": {
    "collapsed": false
   },
   "outputs": [
    {
     "name": "stdout",
     "output_type": "stream",
     "text": [
      "[  3.06610053e+02  -1.13446368e+05  -7.14613083e+04   6.54844630e+05\n",
      "  -2.94298969e+05   2.55796520e+04]\n",
      "-66867968.8711\n"
     ]
    }
   ],
   "source": [
    "print mult_regression_model_two.coef_\n",
    "print mult_regression_model_two.intercept_"
   ]
  },
  {
   "cell_type": "code",
   "execution_count": 67,
   "metadata": {
    "collapsed": false
   },
   "outputs": [
    {
     "data": {
      "text/plain": [
       "LinearRegression(copy_X=True, fit_intercept=True, n_jobs=1, normalize=False)"
      ]
     },
     "execution_count": 67,
     "metadata": {},
     "output_type": "execute_result"
    }
   ],
   "source": [
    "mult_regression_model_three = linear_model.LinearRegression()\n",
    "columns_three = ['sqft_living', 'bedrooms', 'bathrooms', 'lat',\n",
    "                 'long', 'bed_bath_rooms', 'bedrooms_squared',\n",
    "                 'log_sqft_living', 'lat_plus_long']\n",
    "mult_regression_model_three.fit(training_data[columns_three].values, training_data['price'].values)"
   ]
  },
  {
   "cell_type": "code",
   "execution_count": 68,
   "metadata": {
    "collapsed": false
   },
   "outputs": [
    {
     "name": "stdout",
     "output_type": "stream",
     "text": [
      "[  5.29422820e+02   3.45142296e+04   6.70607813e+04   5.34085611e+05\n",
      "  -4.06750711e+05  -8.57050439e+03  -6.78858667e+03  -5.61831484e+05\n",
      "   1.27334900e+05]\n",
      "-62036084.9861\n"
     ]
    }
   ],
   "source": [
    "print mult_regression_model_three.coef_\n",
    "print mult_regression_model_three.intercept_"
   ]
  },
  {
   "cell_type": "markdown",
   "metadata": {
    "collapsed": true
   },
   "source": [
    "### Calculate RSS for each model"
   ]
  },
  {
   "cell_type": "code",
   "execution_count": 69,
   "metadata": {
    "collapsed": false
   },
   "outputs": [
    {
     "data": {
      "text/plain": [
       "967879963049549.75"
      ]
     },
     "execution_count": 69,
     "metadata": {},
     "output_type": "execute_result"
    }
   ],
   "source": [
    "sum((mult_regression_model_one.predict(training_data[list(columns_one)].values) - training_data['price'].values) ** 2)"
   ]
  },
  {
   "cell_type": "code",
   "execution_count": 70,
   "metadata": {
    "collapsed": false
   },
   "outputs": [
    {
     "data": {
      "text/plain": [
       "958419635074067.38"
      ]
     },
     "execution_count": 70,
     "metadata": {},
     "output_type": "execute_result"
    }
   ],
   "source": [
    "sum((mult_regression_model_two.predict(training_data[list(columns_two)].values) - training_data['price'].values) ** 2)"
   ]
  },
  {
   "cell_type": "code",
   "execution_count": 71,
   "metadata": {
    "collapsed": false
   },
   "outputs": [
    {
     "data": {
      "text/plain": [
       "903436455050479.5"
      ]
     },
     "execution_count": 71,
     "metadata": {},
     "output_type": "execute_result"
    }
   ],
   "source": [
    "sum((mult_regression_model_three.predict(training_data[list(columns_three)].values) - training_data['price'].values) ** 2)"
   ]
  },
  {
   "cell_type": "markdown",
   "metadata": {
    "collapsed": true
   },
   "source": [
    "### Calculate RSS for each model on test data"
   ]
  },
  {
   "cell_type": "code",
   "execution_count": 72,
   "metadata": {
    "collapsed": false
   },
   "outputs": [
    {
     "data": {
      "text/plain": [
       "225500469795490.5"
      ]
     },
     "execution_count": 72,
     "metadata": {},
     "output_type": "execute_result"
    }
   ],
   "source": [
    "sum((mult_regression_model_one.predict(test_data[columns_one].values) - test_data['price'].values) ** 2)"
   ]
  },
  {
   "cell_type": "code",
   "execution_count": 73,
   "metadata": {
    "collapsed": false
   },
   "outputs": [
    {
     "data": {
      "text/plain": [
       "223377462976466.19"
      ]
     },
     "execution_count": 73,
     "metadata": {},
     "output_type": "execute_result"
    }
   ],
   "source": [
    "sum((mult_regression_model_two.predict(test_data[columns_two].values) - test_data['price'].values) ** 2)"
   ]
  },
  {
   "cell_type": "code",
   "execution_count": 74,
   "metadata": {
    "collapsed": false
   },
   "outputs": [
    {
     "data": {
      "text/plain": [
       "259236319207180.06"
      ]
     },
     "execution_count": 74,
     "metadata": {},
     "output_type": "execute_result"
    }
   ],
   "source": [
    "sum((mult_regression_model_three.predict(test_data[list(columns_three)].values) - test_data['price'].values) ** 2)"
   ]
  }
 ],
 "metadata": {
  "kernelspec": {
   "display_name": "Python 2",
   "language": "python",
   "name": "python2"
  },
  "language_info": {
   "codemirror_mode": {
    "name": "ipython",
    "version": 2
   },
   "file_extension": ".py",
   "mimetype": "text/x-python",
   "name": "python",
   "nbconvert_exporter": "python",
   "pygments_lexer": "ipython2",
   "version": "2.7.10"
  }
 },
 "nbformat": 4,
 "nbformat_minor": 0
}
