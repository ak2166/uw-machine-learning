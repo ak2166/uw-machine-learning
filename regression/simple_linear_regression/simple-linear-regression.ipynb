{
 "cells": [
  {
   "cell_type": "markdown",
   "metadata": {
    "collapsed": true
   },
   "source": [
    "## Week One - Simple Linear Regression\n",
    "\n",
    "<p>First, import necessary libraries. Then load test and train data into them.</p>"
   ]
  },
  {
   "cell_type": "code",
   "execution_count": 21,
   "metadata": {
    "collapsed": true
   },
   "outputs": [],
   "source": [
    "import pandas as pd"
   ]
  },
  {
   "cell_type": "code",
   "execution_count": 22,
   "metadata": {
    "collapsed": false
   },
   "outputs": [],
   "source": [
    "training_data = pd.read_csv('kc_house_train_data.csv')\n",
    "test_data = pd.read_csv('kc_house_test_data.csv')"
   ]
  },
  {
   "cell_type": "markdown",
   "metadata": {},
   "source": [
    "### Define a function that uses the closed form solution of simple linear regression to find the slope and intercept of our training data"
   ]
  },
  {
   "cell_type": "code",
   "execution_count": 23,
   "metadata": {
    "collapsed": false
   },
   "outputs": [],
   "source": [
    "def simple_linear_regression(input_feature, output):\n",
    "    length = output.size\n",
    "    input_sum = input_feature.sum()\n",
    "    output_sum = output.sum()\n",
    "    slope = (sum(input_feature*output) - \n",
    "            ((input_sum*output_sum)/length))/(sum(pow(input_feature,2)) - \n",
    "            ((input_sum*input_sum)/length))\n",
    "    intercept = output.mean() - (slope * input_feature.mean())\n",
    "    return intercept, slope"
   ]
  },
  {
   "cell_type": "code",
   "execution_count": 24,
   "metadata": {
    "collapsed": false
   },
   "outputs": [
    {
     "name": "stdout",
     "output_type": "stream",
     "text": [
      "-47116.0790674is the intercept, and 281.958839628 is the slope.\n"
     ]
    }
   ],
   "source": [
    "intercept, slope = simple_linear_regression(training_data['sqft_living'], training_data['price'])\n",
    "print str(intercept) + 'is the intercept, and ' + str(slope) + ' is the slope.'"
   ]
  },
  {
   "cell_type": "markdown",
   "metadata": {},
   "source": [
    "### Define a function that will make predictions on an input column of data, given the slope and intercept"
   ]
  },
  {
   "cell_type": "code",
   "execution_count": 25,
   "metadata": {
    "collapsed": false
   },
   "outputs": [],
   "source": [
    "def get_regression_predictions(input_feature, intercept, slope):\n",
    "    predicted_output = intercept + (slope*input_feature)\n",
    "    return(predicted_output)"
   ]
  },
  {
   "cell_type": "code",
   "execution_count": 26,
   "metadata": {
    "collapsed": false
   },
   "outputs": [
    {
     "name": "stdout",
     "output_type": "stream",
     "text": [
      "For a 2650 sqft house, the predicted price is: 700074.845946\n"
     ]
    }
   ],
   "source": [
    "predict_example = get_regression_predictions(2650, intercept, slope)\n",
    "print 'For a 2650 sqft house, the predicted price is: ' + str(predict_example)"
   ]
  },
  {
   "cell_type": "markdown",
   "metadata": {},
   "source": [
    "### Define a function that will calculate the Residual Sum of Squares given inputs, outputs, and a model"
   ]
  },
  {
   "cell_type": "code",
   "execution_count": 27,
   "metadata": {
    "collapsed": false
   },
   "outputs": [],
   "source": [
    "def get_residual_sum_of_squares(input_feature, output, intercept,slope):\n",
    "    predictions = input_feature.apply(lambda x: get_regression_predictions(x, intercept, slope))\n",
    "    error = output - predictions\n",
    "    RSS = sum(pow(error, 2))\n",
    "    return RSS"
   ]
  },
  {
   "cell_type": "code",
   "execution_count": 28,
   "metadata": {
    "collapsed": false
   },
   "outputs": [
    {
     "name": "stdout",
     "output_type": "stream",
     "text": [
      "For the training set the RSS is: 1.20191835418e+15\n"
     ]
    }
   ],
   "source": [
    "rss = get_residual_sum_of_squares(training_data['sqft_living'], training_data['price'], intercept, slope)\n",
    "print 'For the training set the RSS is: ' + str(rss)"
   ]
  },
  {
   "cell_type": "markdown",
   "metadata": {},
   "source": [
    "### Invert the linear relationship to predict an input given an output."
   ]
  },
  {
   "cell_type": "code",
   "execution_count": 29,
   "metadata": {
    "collapsed": true
   },
   "outputs": [],
   "source": [
    "def inverse_regression_predictions(output, intercept, slope):\n",
    "    estimated_input = (output - intercept)/slope\n",
    "    return estimated_input"
   ]
  },
  {
   "cell_type": "code",
   "execution_count": 30,
   "metadata": {
    "collapsed": false
   },
   "outputs": [
    {
     "name": "stdout",
     "output_type": "stream",
     "text": [
      "The predicted size of a house costing $800,000 is: 3004.39624516 sqft\n"
     ]
    }
   ],
   "source": [
    "predict_input_example = inverse_regression_predictions(800000, intercept, slope)\n",
    "print 'The predicted size of a house costing $800,000 is: ' + str(predict_input_example) + ' sqft'"
   ]
  },
  {
   "cell_type": "markdown",
   "metadata": {},
   "source": [
    "### Finally, train on the number of bedrooms, get the RSS and compare both models"
   ]
  },
  {
   "cell_type": "code",
   "execution_count": 31,
   "metadata": {
    "collapsed": true
   },
   "outputs": [],
   "source": [
    "bedroom_intercept, bedroom_slope = simple_linear_regression(training_data['bedrooms'], training_data['price'])"
   ]
  },
  {
   "cell_type": "code",
   "execution_count": 32,
   "metadata": {
    "collapsed": false
   },
   "outputs": [
    {
     "name": "stdout",
     "output_type": "stream",
     "text": [
      "For the bedroom test set the RSS is: 4.93363257576e+14\n"
     ]
    }
   ],
   "source": [
    "bedroom_rss = get_residual_sum_of_squares(test_data['bedrooms'], test_data['price'], bedroom_intercept, bedroom_slope)\n",
    "print 'For the bedroom test set the RSS is: ' + str(bedroom_rss)"
   ]
  },
  {
   "cell_type": "code",
   "execution_count": 33,
   "metadata": {
    "collapsed": false
   },
   "outputs": [
    {
     "name": "stdout",
     "output_type": "stream",
     "text": [
      "For the sqft test set the RSS is: 2.75402933618e+14\n"
     ]
    }
   ],
   "source": [
    "sqft_test_rss = get_residual_sum_of_squares(test_data['sqft_living'], test_data['price'], intercept, slope)\n",
    "print 'For the sqft test set the RSS is: ' + str(sqft_test_rss)"
   ]
  }
 ],
 "metadata": {
  "kernelspec": {
   "display_name": "Python 2",
   "language": "python",
   "name": "python2"
  },
  "language_info": {
   "codemirror_mode": {
    "name": "ipython",
    "version": 2
   },
   "file_extension": ".py",
   "mimetype": "text/x-python",
   "name": "python",
   "nbconvert_exporter": "python",
   "pygments_lexer": "ipython2",
   "version": "2.7.10"
  }
 },
 "nbformat": 4,
 "nbformat_minor": 0
}
