{
 "cells": [
  {
   "cell_type": "markdown",
   "metadata": {},
   "source": [
    "## Week five - Lasso Regression\n",
    "### Assignment Two\n",
    "\n",
    "<p>First, import necessary libraries. Then load test and train data into them.</p>"
   ]
  },
  {
   "cell_type": "code",
   "execution_count": 1,
   "metadata": {
    "collapsed": true
   },
   "outputs": [],
   "source": [
    "import pandas as pd\n",
    "import numpy as np\n",
    "from sklearn import linear_model"
   ]
  },
  {
   "cell_type": "code",
   "execution_count": 2,
   "metadata": {
    "collapsed": false
   },
   "outputs": [],
   "source": [
    "dtype_dict = {'bathrooms':float, 'waterfront':int, 'sqft_above':int, 'sqft_living15':float, 'grade':int, 'yr_renovated':int, 'price':float, 'bedrooms':float, 'zipcode':str, 'long':float, 'sqft_lot15':float, 'sqft_living':float, 'floors':float, 'condition':int, 'lat':float, 'date':str, 'sqft_basement':int, 'yr_built':int, 'id':str, 'sqft_lot':int, 'view':int}\n",
    "training = pd.read_csv('kc_house_train_data.csv', dtype = dtype_dict)\n",
    "testing = pd.read_csv('kc_house_test_data.csv', dtype = dtype_dict)"
   ]
  },
  {
   "cell_type": "markdown",
   "metadata": {},
   "source": [
    "### Import get_numpy_data from Module Two"
   ]
  },
  {
   "cell_type": "code",
   "execution_count": 3,
   "metadata": {
    "collapsed": false
   },
   "outputs": [],
   "source": [
    "def get_numpy_data(data_frame, features, output):\n",
    "    data_frame['constant'] = 1 # add a constant column to a dataframe\n",
    "    # prepend variable 'constant' to the features list\n",
    "    features = ['constant'] + features\n",
    "    # select the columns of data_frame given by the ‘features’ list into the Frame ‘features_frame’\n",
    "    features_frame = data_frame[list(features)]\n",
    "    # this will convert the features_sframe into a numpy matrix\n",
    "    features_matrix = features_frame.as_matrix()\n",
    "    # assign the column of data_frame associated with the target to the variable ‘output_array’\n",
    "    output_column = data_frame[output]\n",
    "    # this will convert the series into a numpy array:\n",
    "    output_array = output_column.as_matrix()\n",
    "    return(features_matrix, output_array)"
   ]
  },
  {
   "cell_type": "markdown",
   "metadata": {},
   "source": [
    "### And the predict_output function"
   ]
  },
  {
   "cell_type": "code",
   "execution_count": 4,
   "metadata": {
    "collapsed": false
   },
   "outputs": [],
   "source": [
    "def predict_output(feature_matrix, weights):\n",
    "    predictions = np.dot(feature_matrix, weights)\n",
    "    return(predictions)"
   ]
  },
  {
   "cell_type": "markdown",
   "metadata": {
    "collapsed": false
   },
   "source": [
    "### Write a function to normalize the inputs"
   ]
  },
  {
   "cell_type": "code",
   "execution_count": 5,
   "metadata": {
    "collapsed": false
   },
   "outputs": [],
   "source": [
    "def normalize_features(features):\n",
    "    norms = []\n",
    "    normalized_features = np.empty(np.shape(features))\n",
    "    for index in range(features.shape[1]):\n",
    "        norms.append(np.linalg.norm(features[:,index], axis=0))\n",
    "        normalized_features[:,index] = features[:,index]/norms[index]\n",
    "    return (normalized_features, norms)"
   ]
  },
  {
   "cell_type": "markdown",
   "metadata": {},
   "source": [
    "### Calculate norms of a 2 feature input"
   ]
  },
  {
   "cell_type": "code",
   "execution_count": 6,
   "metadata": {
    "collapsed": true
   },
   "outputs": [],
   "source": [
    "sales = pd.read_csv('kc_house_data.csv', dtype=dtype_dict)"
   ]
  },
  {
   "cell_type": "code",
   "execution_count": 7,
   "metadata": {
    "collapsed": false
   },
   "outputs": [],
   "source": [
    "np_sales, output_sales = get_numpy_data(sales, ['sqft_living', 'bedrooms'], 'price')\n"
   ]
  },
  {
   "cell_type": "code",
   "execution_count": 8,
   "metadata": {
    "collapsed": false
   },
   "outputs": [
    {
     "name": "stdout",
     "output_type": "stream",
     "text": [
      "[[  1.00000000e+00   1.18000000e+03   3.00000000e+00]\n",
      " [  1.00000000e+00   2.57000000e+03   3.00000000e+00]\n",
      " [  1.00000000e+00   7.70000000e+02   2.00000000e+00]\n",
      " ..., \n",
      " [  1.00000000e+00   1.02000000e+03   2.00000000e+00]\n",
      " [  1.00000000e+00   1.60000000e+03   3.00000000e+00]\n",
      " [  1.00000000e+00   1.02000000e+03   2.00000000e+00]]\n",
      "[[ 0.00680209  0.00353021  0.00583571]\n",
      " [ 0.00680209  0.00768869  0.00583571]\n",
      " [ 0.00680209  0.00230361  0.00389048]\n",
      " ..., \n",
      " [ 0.00680209  0.00305154  0.00389048]\n",
      " [ 0.00680209  0.00478673  0.00583571]\n",
      " [ 0.00680209  0.00305154  0.00389048]]\n"
     ]
    }
   ],
   "source": [
    "normalized, norms = normalize_features(np_sales)\n",
    "print np_sales\n",
    "print normalized"
   ]
  },
  {
   "cell_type": "markdown",
   "metadata": {},
   "source": [
    "### Make a prediction with the initial weights and use that to calculate a step of coordinate descent"
   ]
  },
  {
   "cell_type": "code",
   "execution_count": 9,
   "metadata": {
    "collapsed": false
   },
   "outputs": [
    {
     "name": "stdout",
     "output_type": "stream",
     "text": [
      "ro[0] = 78176568.833\n",
      "ro[1] = 86601827.9593\n",
      "ro[2] = 79704172.608\n"
     ]
    }
   ],
   "source": [
    "initial_weights = np.array([1,4,1])\n",
    "prediction = predict_output(np_sales, np.transpose(initial_weights))\n",
    "\n",
    "#Normalize the output\n",
    "for index in range(len(norms)):\n",
    "    print 'ro['+str(index)+'] = ' + str(sum(normalized[:,index]*(output_sales - prediction + (initial_weights[index]*normalized[:,index])) ))"
   ]
  },
  {
   "cell_type": "markdown",
   "metadata": {},
   "source": [
    "### Calculate Descent for a single feature"
   ]
  },
  {
   "cell_type": "code",
   "execution_count": 10,
   "metadata": {
    "collapsed": false
   },
   "outputs": [],
   "source": [
    "def lasso_coordinate_descent_step(i, feature_matrix, output, weights, l1_penalty):\n",
    "    normalized, norms = normalize_features(feature_matrix)\n",
    "    prediction = predict_output(normalized, weights)\n",
    "    # compute ro[i] = SUM[ [feature_i]*(output - prediction + weight[i]*[feature_i]) ]\n",
    "    ro_i = sum(normalized[:,i]*(output - prediction + (weights[i]*normalized[:,i])) )\n",
    "    print ro_i\n",
    "    if i == 0: # intercept -- do not regularize\n",
    "        new_weight_i = ro_i\n",
    "    elif ro_i < -l1_penalty/2.:\n",
    "        new_weight_i = ro_i + (l1_penalty/2)\n",
    "    elif ro_i > l1_penalty/2.:\n",
    "        new_weight_i = ro_i - (l1_penalty/2)\n",
    "    else:\n",
    "        new_weight_i = 0.\n",
    "    \n",
    "    return new_weight_i"
   ]
  },
  {
   "cell_type": "code",
   "execution_count": 11,
   "metadata": {
    "collapsed": false
   },
   "outputs": [
    {
     "name": "stdout",
     "output_type": "stream",
     "text": [
      "0.475558846691\n",
      "0.425558846691\n"
     ]
    }
   ],
   "source": [
    "# should print 0.425558846691\n",
    "import math\n",
    "print lasso_coordinate_descent_step(1, np.array([[3./math.sqrt(13),1./math.sqrt(10)],\n",
    "                   [2./math.sqrt(13),3./math.sqrt(10)]]), np.array([1., 1.]), np.array([1., 4.]), 0.1)"
   ]
  },
  {
   "cell_type": "markdown",
   "metadata": {},
   "source": [
    "### Now define algorithm for cyclical coordinate descent"
   ]
  },
  {
   "cell_type": "code",
   "execution_count": 12,
   "metadata": {
    "collapsed": false
   },
   "outputs": [],
   "source": [
    "def lasso_cyclical_coordinate_descent(feature_matrix, output, initial_weights, l1_penalty, tolerance):\n",
    "    stopped = False \n",
    "    weights = initial_weights\n",
    "    print range(len(initial_weights))\n",
    "    while not stopped:\n",
    "        max_change = 0\n",
    "        for index in range(len(initial_weights)):\n",
    "            old_weight = weights[index]\n",
    "            weights[index] = lasso_coordinate_descent_step(index, feature_matrix, output, weights, l1_penalty)\n",
    "            change_i = np.abs(old_weight - weights[index])  \n",
    "            if change_i < tolerance:                \n",
    "                stopped = True \n",
    "    return weights"
   ]
  },
  {
   "cell_type": "markdown",
   "metadata": {
    "collapsed": false
   },
   "source": [
    "### Now test"
   ]
  },
  {
   "cell_type": "code",
   "execution_count": 13,
   "metadata": {
    "collapsed": false
   },
   "outputs": [
    {
     "name": "stdout",
     "output_type": "stream",
     "text": [
      "[0, 1, 2]\n",
      "79400304.6376\n",
      "15305258.7049\n",
      "-5299724.16961\n",
      "70262136.2612\n",
      "23947595.7648\n",
      "-4647259.81719\n",
      "62067326.7428\n",
      "31161208.2635\n",
      "-3555758.46421\n"
     ]
    }
   ],
   "source": [
    "first_weights = [0,0,0]\n",
    "l1_penalty = 1e7\n",
    "tolerance = 1.0 \n",
    "weights = lasso_cyclical_coordinate_descent(np_sales, output_sales, first_weights, l1_penalty, tolerance)"
   ]
  },
  {
   "cell_type": "code",
   "execution_count": 14,
   "metadata": {
    "collapsed": false
   },
   "outputs": [
    {
     "name": "stdout",
     "output_type": "stream",
     "text": [
      "2.26732798418e+15\n"
     ]
    }
   ],
   "source": [
    "rss = sum((predict_output(normalized, weights) - output_sales) ** 2)\n",
    "print rss"
   ]
  },
  {
   "cell_type": "markdown",
   "metadata": {},
   "source": [
    "### Now try with more features"
   ]
  },
  {
   "cell_type": "code",
   "execution_count": 15,
   "metadata": {
    "collapsed": true
   },
   "outputs": [],
   "source": [
    "features = ['bedrooms', 'bathrooms', 'sqft_living', 'sqft_lot', 'floors', 'waterfront', 'view', 'condition', 'grade', 'sqft_above', 'sqft_basement', 'yr_built', 'yr_renovated']"
   ]
  },
  {
   "cell_type": "code",
   "execution_count": 16,
   "metadata": {
    "collapsed": false
   },
   "outputs": [],
   "source": [
    "train_cols, train_output = get_numpy_data(training, features, 'price')\n",
    "test_cols, test_output = get_numpy_data(testing, features, 'price')"
   ]
  },
  {
   "cell_type": "code",
   "execution_count": 17,
   "metadata": {
    "collapsed": false
   },
   "outputs": [],
   "source": [
    "train_normalized, train_norms = normalize_features(train_cols)\n",
    "test_normalized, test_norms = normalize_features(test_cols)"
   ]
  },
  {
   "cell_type": "code",
   "execution_count": 18,
   "metadata": {
    "collapsed": false
   },
   "outputs": [
    {
     "name": "stdout",
     "output_type": "stream",
     "text": [
      "[0, 1, 2, 3, 4, 5, 6, 7, 8, 9, 10, 11, 12, 13]\n",
      "71114625.7149\n",
      "3961380.12528\n",
      "8743972.47596\n",
      "10271064.3568\n",
      "755763.309224\n",
      "-4138302.98335\n",
      "12173100.2823\n",
      "12025131.9563\n",
      "-10530804.7035\n",
      "-1352759.50875\n",
      "5394565.69018\n",
      "7242690.30918\n",
      "-7160960.49294\n",
      "3139465.65362\n"
     ]
    }
   ],
   "source": [
    "first_weights = [0, 0, 0, 0, 0, 0, 0, 0, 0, 0, 0, 0, 0, 0]\n",
    "weights1e7 = lasso_cyclical_coordinate_descent(train_cols, train_output, first_weights, l1_penalty, tolerance)"
   ]
  },
  {
   "cell_type": "code",
   "execution_count": 19,
   "metadata": {
    "collapsed": false
   },
   "outputs": [
    {
     "name": "stdout",
     "output_type": "stream",
     "text": [
      "[0, 1, 2, 3, 4, 5, 6, 7, 8, 9, 10, 11, 12, 13]\n",
      "66090269.3443\n",
      "3164429.92805\n",
      "10640929.9898\n",
      "20012015.7683\n",
      "6285973.79242\n",
      "11930580.3192\n",
      "11149738.5115\n",
      "20983393.1026\n",
      "5767830.09532\n",
      "10378834.3663\n",
      "17829970.6919\n",
      "17433842.2156\n",
      "5061885.5376\n",
      "6918373.46068\n"
     ]
    }
   ],
   "source": [
    "l1_penalty = 1e8\n",
    "tolerance = 1.0\n",
    "weights1e8 = lasso_cyclical_coordinate_descent(train_cols, train_output, first_weights, l1_penalty, tolerance)"
   ]
  },
  {
   "cell_type": "code",
   "execution_count": 20,
   "metadata": {
    "collapsed": false
   },
   "outputs": [
    {
     "name": "stdout",
     "output_type": "stream",
     "text": [
      "[0, 1, 2, 3, 4, 5, 6, 7, 8, 9, 10, 11, 12, 13]\n",
      "71114625.7149\n",
      "3961380.12528\n",
      "4968442.49245\n",
      "5356785.21171\n",
      "-1034778.65448\n",
      "-8686336.16002\n",
      "12542789.746\n",
      "10821991.9822\n",
      "-8859350.5499\n",
      "3649520.82307\n",
      "6544708.94494\n",
      "2981689.81074\n",
      "-11585046.4764\n",
      "3087552.86989\n",
      "70455350.8481\n",
      "6437329.79841\n",
      "8496899.27889\n",
      "8941642.64001\n",
      "-1431943.85169\n",
      "-13549624.1229\n",
      "7614816.93609\n",
      "12246226.6784\n",
      "-12613025.4282\n",
      "6498184.73376\n",
      "11824968.6905\n",
      "3482917.46347\n",
      "-20026322.5222\n",
      "3260140.76025\n"
     ]
    }
   ],
   "source": [
    "l1_penalty = 1e4\n",
    "tolerance = 5e5\n",
    "weights1e4 = lasso_cyclical_coordinate_descent(train_cols, train_output, first_weights, l1_penalty, tolerance)"
   ]
  },
  {
   "cell_type": "code",
   "execution_count": null,
   "metadata": {
    "collapsed": true
   },
   "outputs": [],
   "source": []
  }
 ],
 "metadata": {
  "kernelspec": {
   "display_name": "Python 2",
   "language": "python",
   "name": "python2"
  },
  "language_info": {
   "codemirror_mode": {
    "name": "ipython",
    "version": 2
   },
   "file_extension": ".py",
   "mimetype": "text/x-python",
   "name": "python",
   "nbconvert_exporter": "python",
   "pygments_lexer": "ipython2",
   "version": "2.7.10"
  }
 },
 "nbformat": 4,
 "nbformat_minor": 0
}
