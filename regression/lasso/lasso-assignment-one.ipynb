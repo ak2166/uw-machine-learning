{
 "cells": [
  {
   "cell_type": "markdown",
   "metadata": {},
   "source": [
    "## Week five - Lasso Regression\n",
    "### Assignment One\n",
    "\n",
    "<p>First, import necessary libraries. Then load test and train data into them.</p>"
   ]
  },
  {
   "cell_type": "code",
   "execution_count": 144,
   "metadata": {
    "collapsed": true
   },
   "outputs": [],
   "source": [
    "import pandas as pd\n",
    "import numpy as np\n",
    "from sklearn import linear_model"
   ]
  },
  {
   "cell_type": "code",
   "execution_count": 145,
   "metadata": {
    "collapsed": false
   },
   "outputs": [],
   "source": [
    "dtype_dict = {'bathrooms':float, 'waterfront':int, 'sqft_above':int, 'sqft_living15':float, 'grade':int, 'yr_renovated':int, 'price':float, 'bedrooms':float, 'zipcode':str, 'long':float, 'sqft_lot15':float, 'sqft_living':float, 'floors':float, 'condition':int, 'lat':float, 'date':str, 'sqft_basement':int, 'yr_built':int, 'id':str, 'sqft_lot':int, 'view':int}\n",
    "sales = pd.read_csv('kc_house_data.csv', dtype=dtype_dict)\n",
    "training = pd.read_csv('wk3_kc_house_train_data.csv', dtype = dtype_dict)\n",
    "testing = pd.read_csv('wk3_kc_house_test_data.csv', dtype = dtype_dict)\n",
    "validation = pd.read_csv('wk3_kc_house_valid_data.csv', dtype=dtype_dict)"
   ]
  },
  {
   "cell_type": "markdown",
   "metadata": {},
   "source": [
    "### Now do some feature engineering"
   ]
  },
  {
   "cell_type": "code",
   "execution_count": 146,
   "metadata": {
    "collapsed": false
   },
   "outputs": [],
   "source": [
    "from math import log, sqrt\n",
    "sales['sqft_living_sqrt'] = sales['sqft_living'].apply(sqrt)\n",
    "sales['sqft_lot_sqrt'] = sales['sqft_lot'].apply(sqrt)\n",
    "sales['bedrooms_square'] = sales['bedrooms']*sales['bedrooms']\n",
    "sales['floors_square'] = sales['floors']*sales['floors']"
   ]
  },
  {
   "cell_type": "markdown",
   "metadata": {},
   "source": [
    "### And train a lasso model on the entire set of sales data"
   ]
  },
  {
   "cell_type": "code",
   "execution_count": 147,
   "metadata": {
    "collapsed": false
   },
   "outputs": [],
   "source": [
    "all_features = ['bedrooms', 'bedrooms_square',\n",
    "            'bathrooms',\n",
    "            'sqft_living', 'sqft_living_sqrt',\n",
    "            'sqft_lot', 'sqft_lot_sqrt',\n",
    "            'floors', 'floors_square',\n",
    "            'waterfront', 'view', 'condition', 'grade',\n",
    "            'sqft_above',\n",
    "            'sqft_basement',\n",
    "            'yr_built', 'yr_renovated']\n"
   ]
  },
  {
   "cell_type": "code",
   "execution_count": 148,
   "metadata": {
    "collapsed": false
   },
   "outputs": [
    {
     "data": {
      "text/plain": [
       "Lasso(alpha=500.0, copy_X=True, fit_intercept=True, max_iter=1000,\n",
       "   normalize=True, positive=False, precompute=False, random_state=None,\n",
       "   selection='cyclic', tol=0.0001, warm_start=False)"
      ]
     },
     "execution_count": 148,
     "metadata": {},
     "output_type": "execute_result"
    }
   ],
   "source": [
    "model_all = linear_model.Lasso(alpha=5e2, normalize=True)\n",
    "model_all.fit(sales[all_features], sales['price'])"
   ]
  },
  {
   "cell_type": "code",
   "execution_count": 149,
   "metadata": {
    "collapsed": false
   },
   "outputs": [
    {
     "name": "stdout",
     "output_type": "stream",
     "text": [
      "bedrooms: 0.0\n",
      "bedrooms_square: 0.0\n",
      "bathrooms: 0.0\n",
      "sqft_living: 134.439313955\n",
      "sqft_living_sqrt: 0.0\n",
      "sqft_lot: 0.0\n",
      "sqft_lot_sqrt: 0.0\n",
      "floors: 0.0\n",
      "floors_square: 0.0\n",
      "waterfront: 0.0\n",
      "view: 24750.0045856\n",
      "condition: 0.0\n",
      "grade: 61749.1030907\n",
      "sqft_above: 0.0\n",
      "sqft_basement: 0.0\n",
      "yr_built: -0.0\n",
      "yr_renovated: 0.0\n"
     ]
    }
   ],
   "source": [
    "for index, feature in enumerate(all_features):\n",
    "    print feature + ': ' + str(model_all.coef_[index])"
   ]
  },
  {
   "cell_type": "markdown",
   "metadata": {},
   "source": [
    "### Engineer features on our data splits"
   ]
  },
  {
   "cell_type": "code",
   "execution_count": 150,
   "metadata": {
    "collapsed": true
   },
   "outputs": [],
   "source": [
    "testing['sqft_living_sqrt'] = testing['sqft_living'].apply(sqrt)\n",
    "testing['sqft_lot_sqrt'] = testing['sqft_lot'].apply(sqrt)\n",
    "testing['bedrooms_square'] = testing['bedrooms']*testing['bedrooms']\n",
    "testing['floors_square'] = testing['floors']*testing['floors']\n",
    "\n",
    "training['sqft_living_sqrt'] = training['sqft_living'].apply(sqrt)\n",
    "training['sqft_lot_sqrt'] = training['sqft_lot'].apply(sqrt)\n",
    "training['bedrooms_square'] = training['bedrooms']*training['bedrooms']\n",
    "training['floors_square'] = training['floors']*training['floors']\n",
    "\n",
    "validation['sqft_living_sqrt'] = validation['sqft_living'].apply(sqrt)\n",
    "validation['sqft_lot_sqrt'] = validation['sqft_lot'].apply(sqrt)\n",
    "validation['bedrooms_square'] = validation['bedrooms']*validation['bedrooms']\n",
    "validation['floors_square'] = validation['floors']*validation['floors']"
   ]
  },
  {
   "cell_type": "markdown",
   "metadata": {},
   "source": [
    "### Train and validate the sets for multiple l1 penalties"
   ]
  },
  {
   "cell_type": "code",
   "execution_count": 151,
   "metadata": {
    "collapsed": true
   },
   "outputs": [],
   "source": [
    "def calculate_l1(training_data, validation_data, l1_penalties, feature_list, output):\n",
    "    for index, value in enumerate(l1_penalties):\n",
    "        model = linear_model.Lasso(alpha=value, normalize=True)\n",
    "        model.fit(training_data[feature_list], training_data[output])\n",
    "        #calculate RSS:\n",
    "        rss = sum((model.predict(validation_data[feature_list].values) - validation_data[output].values) ** 2)\n",
    "        print 'L1 penalty - ' + str(value) + ': ' + str(rss)"
   ]
  },
  {
   "cell_type": "code",
   "execution_count": 152,
   "metadata": {
    "collapsed": false
   },
   "outputs": [
    {
     "name": "stdout",
     "output_type": "stream",
     "text": [
      "L1 penalty - 10.0: 3.982133273e+14\n",
      "L1 penalty - 31.6227766017: 3.99041900253e+14\n",
      "L1 penalty - 100.0: 4.29791604073e+14\n",
      "L1 penalty - 316.227766017: 4.63739831045e+14\n",
      "L1 penalty - 1000.0: 6.45898733634e+14\n",
      "L1 penalty - 3162.27766017: 1.22250685943e+15\n",
      "L1 penalty - 10000.0: 1.22250685943e+15\n",
      "L1 penalty - 31622.7766017: 1.22250685943e+15\n",
      "L1 penalty - 100000.0: 1.22250685943e+15\n",
      "L1 penalty - 316227.766017: 1.22250685943e+15\n",
      "L1 penalty - 1000000.0: 1.22250685943e+15\n",
      "L1 penalty - 3162277.66017: 1.22250685943e+15\n",
      "L1 penalty - 10000000.0: 1.22250685943e+15\n"
     ]
    }
   ],
   "source": [
    "penalties = np.logspace(1, 7, num=13)\n",
    "calculate_l1(training, validation, penalties, all_features, 'price')"
   ]
  },
  {
   "cell_type": "markdown",
   "metadata": {},
   "source": [
    "### Now compute RSS for test data on the best L1 - 10.0"
   ]
  },
  {
   "cell_type": "code",
   "execution_count": 153,
   "metadata": {
    "collapsed": false
   },
   "outputs": [
    {
     "name": "stdout",
     "output_type": "stream",
     "text": [
      "L1 penalty - 10.0: 9.84674025527e+13\n"
     ]
    }
   ],
   "source": [
    "calculate_l1(training, testing, [10.0], all_features, 'price')"
   ]
  },
  {
   "cell_type": "code",
   "execution_count": 154,
   "metadata": {
    "collapsed": false
   },
   "outputs": [
    {
     "data": {
      "text/plain": [
       "15"
      ]
     },
     "execution_count": 154,
     "metadata": {},
     "output_type": "execute_result"
    }
   ],
   "source": [
    "model = linear_model.Lasso(alpha=10.0, normalize=True)\n",
    "model.fit(training[all_features], training_data['price'])\n",
    "np.count_nonzero(model.coef_) + np.count_nonzero(model.intercept_)"
   ]
  },
  {
   "cell_type": "markdown",
   "metadata": {},
   "source": [
    "### Finally, we will learn models with the number of nonzero weights we specify"
   ]
  },
  {
   "cell_type": "code",
   "execution_count": 155,
   "metadata": {
    "collapsed": true
   },
   "outputs": [],
   "source": [
    "max_nonzero = 7"
   ]
  },
  {
   "cell_type": "code",
   "execution_count": 156,
   "metadata": {
    "collapsed": false
   },
   "outputs": [],
   "source": [
    "penalties = np.logspace(1, 4, num=20)"
   ]
  },
  {
   "cell_type": "code",
   "execution_count": 176,
   "metadata": {
    "collapsed": false
   },
   "outputs": [
    {
     "name": "stdout",
     "output_type": "stream",
     "text": [
      "42.8133239872: 13\n",
      "1128.83789168: 3\n",
      "6951.92796178: 1\n",
      "1623.77673919: 3\n",
      "14.3844988829: 15\n",
      "2335.72146909: 2\n",
      "10.0: 15\n",
      "127.42749857: 10\n",
      "61.5848211066: 12\n",
      "784.759970351: 5\n",
      "4832.93023857: 1\n",
      "183.298071083: 7\n",
      "20.6913808111: 15\n",
      "263.665089873: 6\n",
      "3359.81828628: 1\n",
      "88.586679041: 11\n",
      "29.7635144163: 15\n",
      "379.269019073: 6\n",
      "545.559478117: 6\n",
      "10000.0: 1\n"
     ]
    }
   ],
   "source": [
    "nonzero_dict = {}\n",
    "\n",
    "for index, value in enumerate(penalties):\n",
    "    model = linear_model.Lasso(alpha=value, normalize=True)\n",
    "    model.fit(training[all_features], training['price'])\n",
    "    nonzeros = np.count_nonzero(model.coef_) + np.count_nonzero(model.intercept_)\n",
    "    nonzero_dict[value] = nonzeros\n",
    "for key, value in nonzero_dict.iteritems():\n",
    "    print str(key) + ': ' + str(value)"
   ]
  },
  {
   "cell_type": "code",
   "execution_count": 173,
   "metadata": {
    "collapsed": false
   },
   "outputs": [
    {
     "name": "stdout",
     "output_type": "stream",
     "text": [
      "L1 penalty - 161.56072139: 4.40595813867e+14\n",
      "bedrooms: -0.0\n",
      "bedrooms_square: -0.0\n",
      "bathrooms: 9447.62911292\n",
      "sqft_living: 163.752369128\n",
      "sqft_living_sqrt: 0.0\n",
      "sqft_lot: -0.0\n",
      "sqft_lot_sqrt: -0.0\n",
      "floors: 0.0\n",
      "floors_square: 0.0\n",
      "waterfront: 502105.185559\n",
      "view: 41868.3046036\n",
      "condition: 0.0\n",
      "grade: 115681.834862\n",
      "sqft_above: 0.0\n",
      "sqft_basement: 0.0\n",
      "yr_built: -2572.38912262\n",
      "yr_renovated: 0.0\n"
     ]
    }
   ],
   "source": [
    "range_max = 545.55947811685144\n",
    "range_min = 127.42749857031335\n",
    "rss_list = []\n",
    "min_val = (0,0)\n",
    "for value in np.linspace(range_min, range_max):\n",
    "    model = linear_model.Lasso(alpha=value, normalize=True)\n",
    "    model.fit(training[all_features], training['price'])\n",
    "    rss = sum((model.predict(validation[all_features].values) - validation['price'].values) ** 2)\n",
    "    if np.count_nonzero(model.coef_) + np.count_nonzero(model.intercept_) == max_nonzero:\n",
    "        rss_list.append(rss)\n",
    "        if rss == min(rss_list):\n",
    "            min_val = (value, rss, model)\n",
    "print 'L1 penalty - ' + str(min_val[0]) + ': ' + str(min_val[1])\n",
    "for index,feature in enumerate(all_features):\n",
    "    print feature + ': ' + str(min_val[2].coef_[index])"
   ]
  },
  {
   "cell_type": "code",
   "execution_count": null,
   "metadata": {
    "collapsed": true
   },
   "outputs": [],
   "source": []
  }
 ],
 "metadata": {
  "kernelspec": {
   "display_name": "Python 2",
   "language": "python",
   "name": "python2"
  },
  "language_info": {
   "codemirror_mode": {
    "name": "ipython",
    "version": 2
   },
   "file_extension": ".py",
   "mimetype": "text/x-python",
   "name": "python",
   "nbconvert_exporter": "python",
   "pygments_lexer": "ipython2",
   "version": "2.7.10"
  }
 },
 "nbformat": 4,
 "nbformat_minor": 0
}
