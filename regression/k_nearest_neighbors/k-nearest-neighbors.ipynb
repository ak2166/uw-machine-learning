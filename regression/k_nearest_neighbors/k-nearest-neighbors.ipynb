{
 "cells": [
  {
   "cell_type": "markdown",
   "metadata": {},
   "source": [
    "## Week three - Ridge Regression\n",
    "\n",
    "<p>First, import necessary libraries.</p>"
   ]
  },
  {
   "cell_type": "code",
   "execution_count": 2,
   "metadata": {
    "collapsed": true
   },
   "outputs": [],
   "source": [
    "import pandas as pd\n",
    "import numpy as np\n",
    "from sklearn import linear_model\n",
    "import matplotlib.pyplot as plt\n",
    "import math\n",
    "\n",
    "%matplotlib inline"
   ]
  },
  {
   "cell_type": "code",
   "execution_count": 3,
   "metadata": {
    "collapsed": true
   },
   "outputs": [],
   "source": [
    "dtype_dict = {'bathrooms':float, 'waterfront':int, 'sqft_above':int, 'sqft_living15':float, 'grade':int, 'yr_renovated':int, 'price':float, 'bedrooms':float, 'zipcode':str, 'long':float, 'sqft_lot15':float, 'sqft_living':float, 'floors':float, 'condition':int, 'lat':float, 'date':str, 'sqft_basement':int, 'yr_built':int, 'id':str, 'sqft_lot':int, 'view':int}"
   ]
  },
  {
   "cell_type": "markdown",
   "metadata": {},
   "source": [
    "### Create a dataframe representing a polynomial function given a feature and degree"
   ]
  },
  {
   "cell_type": "code",
   "execution_count": 33,
   "metadata": {
    "collapsed": true
   },
   "outputs": [],
   "source": [
    "def get_numpy_data(data_frame, features, output):\n",
    "    data_frame['constant'] = 1 # add a constant column to a dataframe\n",
    "    # prepend variable 'constant' to the features list\n",
    "    features = ['constant'] + features\n",
    "    # select the columns of data_frame given by the ‘features’ list into the Frame ‘features_frame’\n",
    "    features_frame = data_frame[list(features)]\n",
    "    # this will convert the features_sframe into a numpy matrix\n",
    "    features_matrix = features_frame.as_matrix()\n",
    "    # assign the column of data_frame associated with the target to the variable ‘output_array’\n",
    "    output_column = data_frame[output]\n",
    "    # this will convert the series into a numpy array:\n",
    "    output_array = output_column.as_matrix()\n",
    "    return(features_matrix, output_array)"
   ]
  },
  {
   "cell_type": "markdown",
   "metadata": {},
   "source": [
    "### Load the necessary data"
   ]
  },
  {
   "cell_type": "code",
   "execution_count": 34,
   "metadata": {
    "collapsed": false
   },
   "outputs": [],
   "source": [
    "sales = pd.read_csv('kc_house_data_small.csv', dtype=dtype_dict)\n",
    "test = pd.read_csv('kc_house_data_small_test.csv', dtype=dtype_dict)\n",
    "train = pd.read_csv('kc_house_data_small_train.csv', dtype=dtype_dict)\n",
    "valid = pd.read_csv('kc_house_data_validation.csv', dtype=dtype_dict)"
   ]
  },
  {
   "cell_type": "markdown",
   "metadata": {},
   "source": [
    "### Normalize Features"
   ]
  },
  {
   "cell_type": "code",
   "execution_count": 56,
   "metadata": {
    "collapsed": false
   },
   "outputs": [],
   "source": [
    "def normalize_features(features):\n",
    "    norms = []\n",
    "    normalized_features = np.empty(np.shape(features))\n",
    "    for index in range(features.shape[1]):\n",
    "        norms.append(np.linalg.norm(features[:,index], axis=0))\n",
    "        normalized_features[:,index] = features[:,index]/norms[index]\n",
    "    return (normalized_features, norms)"
   ]
  },
  {
   "cell_type": "markdown",
   "metadata": {},
   "source": [
    "### Get the numpy data and normalize it"
   ]
  },
  {
   "cell_type": "code",
   "execution_count": 91,
   "metadata": {
    "collapsed": false
   },
   "outputs": [],
   "source": [
    "all_feats = ['bathrooms', 'waterfront', 'sqft_above', 'sqft_living15', 'grade', 'yr_renovated', 'bedrooms', 'long', 'sqft_lot15', 'sqft_living', 'floors', 'condition', 'lat', 'sqft_basement', 'yr_built', 'sqft_lot', 'view']\n",
    "features_train = get_numpy_data(train, all_feats, 'price')\n",
    "features_test = get_numpy_data(test, all_feats, 'price')\n",
    "features_valid = get_numpy_data(valid, all_feats, 'price')\n",
    "\n",
    "train_price = features_train[1]\n",
    "test_price = features_test[1]\n",
    "valid_price = features_valid[1]\n",
    "\n",
    "features_train, norms = normalize_features(features_train[0])\n",
    "features_test = features_test[0] / norms\n",
    "features_valid = features_valid[0] / norms"
   ]
  },
  {
   "cell_type": "code",
   "execution_count": 92,
   "metadata": {
    "collapsed": false
   },
   "outputs": [
    {
     "name": "stdout",
     "output_type": "stream",
     "text": [
      "[ 0.01345102  0.01807473  0.          0.01362084  0.01375926  0.01564352\n",
      "  0.          0.01551285 -0.01346922  0.0016225   0.01759212  0.017059\n",
      "  0.0116321   0.01345387  0.02481682  0.01350306  0.00160518  0.05102365]\n",
      "[ 0.01345102  0.00602491  0.          0.0096309   0.01195898  0.01390535\n",
      "  0.          0.01163464 -0.01346251  0.00156612  0.0083488   0.01279425\n",
      "  0.01938684  0.01346821  0.          0.01302544  0.00050756  0.        ]\n",
      "0.059723593714\n"
     ]
    }
   ],
   "source": [
    "print features_test[0]\n",
    "print features_train[9]\n",
    "\n",
    "distance_euclid = np.sqrt(np.sum((features_test[0] - features_train[9])**2))\n",
    "print distance_euclid"
   ]
  },
  {
   "cell_type": "markdown",
   "metadata": {},
   "source": [
    "### Now loop to see the distance between multiple houses"
   ]
  },
  {
   "cell_type": "code",
   "execution_count": 93,
   "metadata": {
    "collapsed": false
   },
   "outputs": [
    {
     "name": "stdout",
     "output_type": "stream",
     "text": [
      "House 0 0.060274709163\n",
      "House 1 0.0854688114764\n",
      "House 2 0.0614994643528\n",
      "House 3 0.0534027397929\n",
      "House 4 0.0584448406017\n",
      "House 5 0.0598792150981\n",
      "House 6 0.0546314049678\n",
      "House 7 0.0554310832361\n",
      "House 8 0.0523836278402\n",
      "House 9 0.059723593714\n"
     ]
    }
   ],
   "source": [
    "for index in range(10):\n",
    "    print 'House ' + str(index) + ' ' + str(np.sqrt(np.sum((features_test[0] - features_train[index])**2)))"
   ]
  },
  {
   "cell_type": "code",
   "execution_count": 94,
   "metadata": {
    "collapsed": false
   },
   "outputs": [
    {
     "name": "stdout",
     "output_type": "stream",
     "text": [
      "-0.0934339987465\n"
     ]
    }
   ],
   "source": [
    "diff =  features_train - features_test[0]\n",
    "print sum(diff[-1])"
   ]
  },
  {
   "cell_type": "markdown",
   "metadata": {
    "collapsed": false
   },
   "source": [
    "### Now get Euclidean distances from all points in train to query"
   ]
  },
  {
   "cell_type": "code",
   "execution_count": 95,
   "metadata": {
    "collapsed": false
   },
   "outputs": [
    {
     "name": "stdout",
     "output_type": "stream",
     "text": [
      "0.0237082324167\n"
     ]
    }
   ],
   "source": [
    "distances = np.sqrt(np.sum((diff**2), axis=1))\n",
    "print distances[100]"
   ]
  },
  {
   "cell_type": "markdown",
   "metadata": {},
   "source": [
    "### Abstract to function"
   ]
  },
  {
   "cell_type": "code",
   "execution_count": 96,
   "metadata": {
    "collapsed": false
   },
   "outputs": [],
   "source": [
    "def compute_distances(features_instances, features_query):\n",
    "    diff =  features_instances - features_query\n",
    "    distances = np.sqrt(np.sum((diff**2), axis=1))\n",
    "    return distances"
   ]
  },
  {
   "cell_type": "code",
   "execution_count": 130,
   "metadata": {
    "collapsed": false,
    "scrolled": true
   },
   "outputs": [
    {
     "name": "stdout",
     "output_type": "stream",
     "text": [
      "0.00286049555751\n",
      "(array([382]),)\n",
      "249000.0\n"
     ]
    }
   ],
   "source": [
    "distances = compute_distances(features_train, features_test[2])\n",
    "print min(distances)\n",
    "print np.where(distances==min(distances))\n",
    "print train_price[382]"
   ]
  },
  {
   "cell_type": "code",
   "execution_count": 143,
   "metadata": {
    "collapsed": false
   },
   "outputs": [],
   "source": [
    "def k_nearest_neighbors(k, features_instances, features_query):\n",
    "    diff =  features_instances - features_query\n",
    "    distances = np.sqrt(np.sum((diff**2), axis=1))\n",
    "    neighbors = distances.argsort()[:k][::1]\n",
    "    return neighbors"
   ]
  },
  {
   "cell_type": "code",
   "execution_count": 144,
   "metadata": {
    "collapsed": false
   },
   "outputs": [
    {
     "name": "stdout",
     "output_type": "stream",
     "text": [
      "[ 382 1149 4087 3142]\n"
     ]
    }
   ],
   "source": [
    "print k_nearest_neighbors(4, features_train, features_test[2])"
   ]
  },
  {
   "cell_type": "markdown",
   "metadata": {},
   "source": [
    "### Now build our prediction function"
   ]
  },
  {
   "cell_type": "code",
   "execution_count": 145,
   "metadata": {
    "collapsed": true
   },
   "outputs": [],
   "source": [
    "def predict_output_of_query(k, features_train, output_train, features_query):\n",
    "    indeces = k_nearest_neighbors(k, features_train, features_query)\n",
    "    prices = output_train[indeces]\n",
    "    prediction = sum(prices)/k\n",
    "    return prediction"
   ]
  },
  {
   "cell_type": "code",
   "execution_count": 146,
   "metadata": {
    "collapsed": false
   },
   "outputs": [
    {
     "name": "stdout",
     "output_type": "stream",
     "text": [
      "413987.5\n"
     ]
    }
   ],
   "source": [
    "print predict_output_of_query(4, features_train, train_price, features_test[2])"
   ]
  },
  {
   "cell_type": "code",
   "execution_count": 147,
   "metadata": {
    "collapsed": false
   },
   "outputs": [],
   "source": [
    "def predict_output(k, features_train, output_train, features_query):\n",
    "    predictions={}\n",
    "    for index,item in enumerate(features_query):\n",
    "        predictions[index]=predict_output_of_query(k, features_train, output_train, item)\n",
    "    return predictions"
   ]
  },
  {
   "cell_type": "code",
   "execution_count": 148,
   "metadata": {
    "collapsed": false
   },
   "outputs": [
    {
     "name": "stdout",
     "output_type": "stream",
     "text": [
      "{0: 881300.0, 1: 431860.0, 2: 460595.0, 3: 430200.0, 4: 766750.0, 5: 667420.0, 6: 350032.0, 7: 512800.70000000001, 8: 484000.0, 9: 457235.0}\n"
     ]
    }
   ],
   "source": [
    "predictions = predict_output(10, features_train, train_price, features_test[:10])\n",
    "print predictions"
   ]
  }
 ],
 "metadata": {
  "kernelspec": {
   "display_name": "Python 2",
   "language": "python",
   "name": "python2"
  },
  "language_info": {
   "codemirror_mode": {
    "name": "ipython",
    "version": 2
   },
   "file_extension": ".py",
   "mimetype": "text/x-python",
   "name": "python",
   "nbconvert_exporter": "python",
   "pygments_lexer": "ipython2",
   "version": "2.7.10"
  }
 },
 "nbformat": 4,
 "nbformat_minor": 0
}
